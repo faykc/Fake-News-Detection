{
  "nbformat": 4,
  "nbformat_minor": 0,
  "metadata": {
    "colab": {
      "name": "FakeNewsModel.ipynb",
      "provenance": [],
      "collapsed_sections": [],
      "authorship_tag": "ABX9TyPQNlEB0AqEH0I6zVc5YZ/a"
    },
    "kernelspec": {
      "name": "python3",
      "display_name": "Python 3"
    }
  },
  "cells": [
    {
      "cell_type": "markdown",
      "metadata": {
        "id": "tOnkO2y0uCkz",
        "colab_type": "text"
      },
      "source": [
        "# **Fake News Detection Machine Learning Model**"
      ]
    },
    {
      "cell_type": "markdown",
      "metadata": {
        "id": "RULJir3GuTWC",
        "colab_type": "text"
      },
      "source": [
        "With this notebook, we will develop a machine learning model for detecting fake news, and comparing the accuracy of several different classifiers. This notebook is based on the tutorial given by [Dataflair](https://data-flair.training/blogs/advanced-python-project-detecting-fake-news/) and [DataCamp](https://www.datacamp.com/community/tutorials/scikit-learn-fake-news), along with my own additions and changes I have made.\n"
      ]
    },
    {
      "cell_type": "code",
      "metadata": {
        "id": "9SJOTiFNuEHJ",
        "colab_type": "code",
        "colab": {}
      },
      "source": [
        "import numpy as np\n",
        "import pandas as pd\n",
        "import pickle\n",
        "import matplotlib.pyplot as plt\n",
        "import itertools\n",
        "from sklearn.model_selection import train_test_split\n",
        "from sklearn.feature_extraction.text import TfidfVectorizer\n",
        "from sklearn.metrics import accuracy_score, confusion_matrix, plot_confusion_matrix\n",
        "from sklearn.linear_model import PassiveAggressiveClassifier\n",
        "from sklearn.naive_bayes import GaussianNB"
      ],
      "execution_count": 0,
      "outputs": []
    },
    {
      "cell_type": "markdown",
      "metadata": {
        "id": "NaIBh1Nuu5Zg",
        "colab_type": "text"
      },
      "source": [
        "We have the data set stored in 'news.csv', this dataset was obtained via the tutorial data-set found in the [DataFlair Detecting Fake News Tutorial](https://data-flair.training/blogs/advanced-python-project-detecting-fake-news/)"
      ]
    },
    {
      "cell_type": "code",
      "metadata": {
        "id": "ZAq59oaTuzW0",
        "colab_type": "code",
        "colab": {}
      },
      "source": [
        "df=pd.read_csv('news.csv')"
      ],
      "execution_count": 0,
      "outputs": []
    },
    {
      "cell_type": "code",
      "metadata": {
        "id": "7PDUKS6Yu30P",
        "colab_type": "code",
        "colab": {
          "base_uri": "https://localhost:8080/",
          "height": 308
        },
        "outputId": "37ebc783-5a65-4d87-e283-df3adbd261af"
      },
      "source": [
        "df.shape\n",
        "# Print the first 4 rows for reference\n",
        "df.head(4)"
      ],
      "execution_count": 5,
      "outputs": [
        {
          "output_type": "execute_result",
          "data": {
            "text/html": [
              "<div>\n",
              "<style scoped>\n",
              "    .dataframe tbody tr th:only-of-type {\n",
              "        vertical-align: middle;\n",
              "    }\n",
              "\n",
              "    .dataframe tbody tr th {\n",
              "        vertical-align: top;\n",
              "    }\n",
              "\n",
              "    .dataframe thead th {\n",
              "        text-align: right;\n",
              "    }\n",
              "</style>\n",
              "<table border=\"1\" class=\"dataframe\">\n",
              "  <thead>\n",
              "    <tr style=\"text-align: right;\">\n",
              "      <th></th>\n",
              "      <th>Unnamed: 0</th>\n",
              "      <th>title</th>\n",
              "      <th>text</th>\n",
              "      <th>label</th>\n",
              "    </tr>\n",
              "  </thead>\n",
              "  <tbody>\n",
              "    <tr>\n",
              "      <th>0</th>\n",
              "      <td>8476</td>\n",
              "      <td>You Can Smell Hillary’s Fear</td>\n",
              "      <td>Daniel Greenfield, a Shillman Journalism Fello...</td>\n",
              "      <td>FAKE</td>\n",
              "    </tr>\n",
              "    <tr>\n",
              "      <th>1</th>\n",
              "      <td>10294</td>\n",
              "      <td>Watch The Exact Moment Paul Ryan Committed Pol...</td>\n",
              "      <td>Google Pinterest Digg Linkedin Reddit Stumbleu...</td>\n",
              "      <td>FAKE</td>\n",
              "    </tr>\n",
              "    <tr>\n",
              "      <th>2</th>\n",
              "      <td>3608</td>\n",
              "      <td>Kerry to go to Paris in gesture of sympathy</td>\n",
              "      <td>U.S. Secretary of State John F. Kerry said Mon...</td>\n",
              "      <td>REAL</td>\n",
              "    </tr>\n",
              "    <tr>\n",
              "      <th>3</th>\n",
              "      <td>10142</td>\n",
              "      <td>Bernie supporters on Twitter erupt in anger ag...</td>\n",
              "      <td>— Kaydee King (@KaydeeKing) November 9, 2016 T...</td>\n",
              "      <td>FAKE</td>\n",
              "    </tr>\n",
              "  </tbody>\n",
              "</table>\n",
              "</div>"
            ],
            "text/plain": [
              "   Unnamed: 0  ... label\n",
              "0        8476  ...  FAKE\n",
              "1       10294  ...  FAKE\n",
              "2        3608  ...  REAL\n",
              "3       10142  ...  FAKE\n",
              "\n",
              "[4 rows x 4 columns]"
            ]
          },
          "metadata": {
            "tags": []
          },
          "execution_count": 5
        }
      ]
    },
    {
      "cell_type": "code",
      "metadata": {
        "id": "8NPLotDcvpIh",
        "colab_type": "code",
        "colab": {
          "base_uri": "https://localhost:8080/",
          "height": 206
        },
        "outputId": "f2c15002-620c-440e-b821-1430e1f3e721"
      },
      "source": [
        "# Obtain the corresponding labels of FAKE or REAL\n",
        "labels = df.label\n",
        "df.drop(axis=1, columns='label')\n",
        "# Print Labels just to quickly confirm\n",
        "labels.head(4)"
      ],
      "execution_count": 21,
      "outputs": [
        {
          "output_type": "execute_result",
          "data": {
            "text/plain": [
              "0    FAKE\n",
              "1    FAKE\n",
              "2    REAL\n",
              "3    FAKE\n",
              "Name: label, dtype: object"
            ]
          },
          "metadata": {
            "tags": []
          },
          "execution_count": 21
        }
      ]
    },
    {
      "cell_type": "markdown",
      "metadata": {
        "id": "JmFdhAsIv6Yq",
        "colab_type": "text"
      },
      "source": [
        "Now we will go ahead and split the data-set into a training and testing set."
      ]
    },
    {
      "cell_type": "code",
      "metadata": {
        "id": "ncZRoVbLwddE",
        "colab_type": "code",
        "colab": {}
      },
      "source": [
        "x_train, x_test, y_train, y_test = train_test_split(df['text'], labels, test_size=0.2)"
      ],
      "execution_count": 0,
      "outputs": []
    },
    {
      "cell_type": "markdown",
      "metadata": {
        "id": "a-0pgZz1zGQ2",
        "colab_type": "text"
      },
      "source": [
        "Now we will be using a **Term Frequency - Inverse Document Frequency Vectorizer** and we will be filtering out commonly used english words as well. \n",
        "\n",
        "---\n",
        "**Term Frequency**\n",
        "> This is defined as the number of times a particular words appears in a document, divided by the number of words in the document.  [Read more in this article](https://towardsdatascience.com/natural-language-processing-feature-engineering-using-tf-idf-e8b9d00e7e76) by Cory Maklin\n",
        "\n",
        "---\n",
        "**Inverse Data Frequency**\n",
        "> We determine this by dividing the total number of documents by the number of documents that contain that word, and taking the log of it. [Read more in this article](https://towardsdatascience.com/natural-language-processing-feature-engineering-using-tf-idf-e8b9d00e7e76) by Cory Maklin\n",
        "\n"
      ]
    },
    {
      "cell_type": "code",
      "metadata": {
        "id": "1fbPqkNe2KPH",
        "colab_type": "code",
        "colab": {}
      },
      "source": [
        "# Instantiate the TFIDF Vectorizer\n",
        "tfidf_vectorizer = TfidfVectorizer(stop_words='english', max_df=0.7)\n",
        "\n",
        "# Fit the data to the vectorizer\n",
        "tfidf_transform = tfidf_vectorizer.fit(x_train)\n",
        "tfidf_train = tfidf_vectorizer.fit_transform(x_train)\n",
        "tfidf_test = tfidf_vectorizer.transform(x_test)"
      ],
      "execution_count": 0,
      "outputs": []
    },
    {
      "cell_type": "markdown",
      "metadata": {
        "id": "oGk_US-E4iJe",
        "colab_type": "text"
      },
      "source": [
        "# Passive Aggressive Classifier\n"
      ]
    },
    {
      "cell_type": "code",
      "metadata": {
        "id": "LEX8e7Nt47qp",
        "colab_type": "code",
        "colab": {}
      },
      "source": [
        "# Initialize the passive aggressive classifier\n",
        "pa_clf = PassiveAggressiveClassifier(max_iter=50)"
      ],
      "execution_count": 0,
      "outputs": []
    },
    {
      "cell_type": "code",
      "metadata": {
        "id": "03uFPZAg5aiQ",
        "colab_type": "code",
        "colab": {
          "base_uri": "https://localhost:8080/",
          "height": 203
        },
        "outputId": "58a9f382-2d03-40aa-8566-df6a4621497a"
      },
      "source": [
        "# Fit the model\n",
        "pa_clf.fit(tfidf_train, y_train)"
      ],
      "execution_count": 29,
      "outputs": [
        {
          "output_type": "execute_result",
          "data": {
            "text/plain": [
              "PassiveAggressiveClassifier(C=1.0, average=False, class_weight=None,\n",
              "                            early_stopping=False, fit_intercept=True,\n",
              "                            loss='hinge', max_iter=50, n_iter_no_change=5,\n",
              "                            n_jobs=None, random_state=None, shuffle=True,\n",
              "                            tol=0.001, validation_fraction=0.1, verbose=0,\n",
              "                            warm_start=False)"
            ]
          },
          "metadata": {
            "tags": []
          },
          "execution_count": 29
        }
      ]
    },
    {
      "cell_type": "code",
      "metadata": {
        "id": "gKvm8-ih5qWi",
        "colab_type": "code",
        "colab": {
          "base_uri": "https://localhost:8080/",
          "height": 136
        },
        "outputId": "d8a90bd6-4f67-43ce-c0ec-98053d0a4eaf"
      },
      "source": [
        "# Do the predictions\n",
        "pa_clf_pred_y = pa_clf.predict(tfidf_test)\n",
        "pa_clf_pred_y_score=accuracy_score(y_test,pa_clf_pred_y)\n",
        "print('Accuracy: {}'.format(round(pa_clf_pred_y_score*100, 3)))"
      ],
      "execution_count": 32,
      "outputs": [
        {
          "output_type": "stream",
          "text": [
            "Accuracy: 94.081\n"
          ],
          "name": "stdout"
        }
      ]
    },
    {
      "cell_type": "markdown",
      "metadata": {
        "id": "TJZrcH7q_ovj",
        "colab_type": "text"
      },
      "source": [
        "### Confusion Matrix (Passive Aggressive Classifier)"
      ]
    },
    {
      "cell_type": "code",
      "metadata": {
        "id": "wiiaDEpv7RUD",
        "colab_type": "code",
        "colab": {
          "base_uri": "https://localhost:8080/",
          "height": 428
        },
        "outputId": "717f2901-2b94-48fb-de17-d347d0ec59cf"
      },
      "source": [
        "# Plotting the Confusion Matrix for the Passive Aggressive Classifier\n",
        "pa_disp = plot_confusion_matrix(pa_clf, tfidf_test, y_test, labels=['FAKE', 'REAL'], values_format='.3g')\n",
        "pa_dis_title = 'Confusion Matrix for Passive Aggressive Classifier'\n",
        "pa_disp.ax_.set_title(pa_dis_title)\n",
        "\n",
        "print(pa_dis_title)\n",
        "print(pa_disp.confusion_matrix)\n",
        "\n",
        "plt.show()"
      ],
      "execution_count": 54,
      "outputs": [
        {
          "output_type": "stream",
          "text": [
            "Confusion Matrix for Passive Aggressive Classifier\n",
            "[[601  35]\n",
            " [ 40 591]]\n"
          ],
          "name": "stdout"
        },
        {
          "output_type": "display_data",
          "data": {
            "image/png": "[encoded data removed]",
            "text/plain": [
              "<Figure size 432x288 with 2 Axes>"
            ]
          },
          "metadata": {
            "tags": [],
            "needs_background": "light"
          }
        }
      ]
    },
    {
      "cell_type": "markdown",
      "metadata": {
        "id": "Ug_ushRwA-mx",
        "colab_type": "text"
      },
      "source": [
        "# Gaussian Naive Bayes Classifier"
      ]
    },
    {
      "cell_type": "code",
      "metadata": {
        "id": "Ou3RX1CpBGvI",
        "colab_type": "code",
        "colab": {
          "base_uri": "https://localhost:8080/",
          "height": 114
        },
        "outputId": "1ba7a507-3966-4ba4-9ac8-e2cc399b387b"
      },
      "source": [
        "# Initialize the classifier and fit the model\n",
        "gnb_clf = GaussianNB()\n",
        "gnb_clf.fit(tfidf_train.toarray(), y_train)"
      ],
      "execution_count": 64,
      "outputs": [
        {
          "output_type": "execute_result",
          "data": {
            "text/plain": [
              "GaussianNB(priors=None, var_smoothing=1e-09)"
            ]
          },
          "metadata": {
            "tags": []
          },
          "execution_count": 64
        }
      ]
    },
    {
      "cell_type": "code",
      "metadata": {
        "id": "D1LriHSSCDCG",
        "colab_type": "code",
        "colab": {
          "base_uri": "https://localhost:8080/",
          "height": 114
        },
        "outputId": "567b7828-7963-4832-93dc-c6d3882ee029"
      },
      "source": [
        "# Do the predictions\n",
        "gnb_clf_pred_y = gnb_clf.predict(tfidf_test.toarray())\n",
        "gnb_clf_pred_y_score=accuracy_score(y_test,gnb_clf_pred_y)\n",
        "print('Accuracy: {}'.format(round(gnb_clf_pred_y_score*100, 3)))"
      ],
      "execution_count": 65,
      "outputs": [
        {
          "output_type": "stream",
          "text": [
            "Accuracy: 80.663\n"
          ],
          "name": "stdout"
        }
      ]
    },
    {
      "cell_type": "markdown",
      "metadata": {
        "id": "D3YJ9v6YDaCt",
        "colab_type": "text"
      },
      "source": [
        "### Confusion Matrix (Gaussian Naive Bayes)"
      ]
    },
    {
      "cell_type": "code",
      "metadata": {
        "id": "lkjFpPmvDB18",
        "colab_type": "code",
        "colab": {
          "base_uri": "https://localhost:8080/",
          "height": 386
        },
        "outputId": "7710ac0e-6df8-4456-e8e6-0e58adedac60"
      },
      "source": [
        "# Plotting the Confusion Matrix for the Passive Aggressive Classifier\n",
        "gnb_disp = plot_confusion_matrix(gnb_clf, tfidf_test.toarray(), y_test, labels=['FAKE', 'REAL'], values_format='.3g')\n",
        "gnb_dis_title = 'Confusion Matrix for Gaussian Classifier'\n",
        "gnb_disp.ax_.set_title(gnb_dis_title)\n",
        "\n",
        "print(gnb_dis_title)\n",
        "print(gnb_disp.confusion_matrix)\n",
        "\n",
        "plt.show()"
      ],
      "execution_count": 67,
      "outputs": [
        {
          "output_type": "stream",
          "text": [
            "Confusion Matrix for Gaussian Classifier\n",
            "[[475 161]\n",
            " [ 84 547]]\n"
          ],
          "name": "stdout"
        },
        {
          "output_type": "display_data",
          "data": {
            "image/png": "[encoded data removed]",
            "text/plain": [
              "<Figure size 432x288 with 2 Axes>"
            ]
          },
          "metadata": {
            "tags": [],
            "needs_background": "light"
          }
        }
      ]
    },
    {
      "cell_type": "code",
      "metadata": {
        "id": "GyBBaZ-GHQG7",
        "colab_type": "code",
        "colab": {}
      },
      "source": [
        "# Save the TFIDF Vocabulary for later use and the Model\n",
        "pickle.dump(tfidf_vectorizer, open(\"tfidf_vector.pickle\", \"wb\"))\n",
        "pickle.dump(tfidf_transform, open(\"tfidf_vocab.pickle\", \"wb\"))\n",
        "pickle.dump(pa_clf, open('pa_clf.sav', 'wb'))\n",
        "pickle.dump(gnb_clf, open('gnb_clf.sav', 'wb'))"
      ],
      "execution_count": 0,
      "outputs": []
    },
    {
      "cell_type": "markdown",
      "metadata": {
        "id": "z0unESORFhT-",
        "colab_type": "text"
      },
      "source": [
        "# Conclusion\n",
        "We were able to develop a model that can classify fake news and real, to a somewhat acceptable degree for learning purposes. Based on the accuracy, we will be using the Passive Aggressive Classifier, as it had a near 94% accurracy. "
      ]
    }
  ]
}